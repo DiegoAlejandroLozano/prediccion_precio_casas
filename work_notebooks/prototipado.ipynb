{
 "cells": [
  {
   "cell_type": "code",
   "execution_count": 1,
   "metadata": {},
   "outputs": [],
   "source": [
    "import warnings\n",
    "warnings.filterwarnings('ignore')\n",
    "\n",
    "import pandas as pd\n",
    "import numpy as np\n",
    "\n",
    "from math import sqrt\n",
    "from matplotlib import pyplot as plt\n",
    "\n",
    "from sklearn.model_selection import train_test_split\n",
    "from sklearn.metrics import r2_score, mean_squared_error\n",
    "from sklearn.linear_model import RANSACRegressor, HuberRegressor, LinearRegression\n",
    "from sklearn.preprocessing import RobustScaler, PolynomialFeatures\n",
    "from sklearn.decomposition import PCA\n"
   ]
  },
  {
   "attachments": {},
   "cell_type": "markdown",
   "metadata": {},
   "source": [
    "## 1. Cargando los datos"
   ]
  },
  {
   "cell_type": "code",
   "execution_count": 2,
   "metadata": {},
   "outputs": [
    {
     "data": {
      "text/html": [
       "<div>\n",
       "<style scoped>\n",
       "    .dataframe tbody tr th:only-of-type {\n",
       "        vertical-align: middle;\n",
       "    }\n",
       "\n",
       "    .dataframe tbody tr th {\n",
       "        vertical-align: top;\n",
       "    }\n",
       "\n",
       "    .dataframe thead th {\n",
       "        text-align: right;\n",
       "    }\n",
       "</style>\n",
       "<table border=\"1\" class=\"dataframe\">\n",
       "  <thead>\n",
       "    <tr style=\"text-align: right;\">\n",
       "      <th></th>\n",
       "      <th>MSSubClass</th>\n",
       "      <th>MSZoning</th>\n",
       "      <th>LotFrontage</th>\n",
       "      <th>LotArea</th>\n",
       "      <th>Street</th>\n",
       "      <th>Alley</th>\n",
       "      <th>LotShape</th>\n",
       "      <th>LandContour</th>\n",
       "      <th>LotConfig</th>\n",
       "      <th>LandSlope</th>\n",
       "      <th>...</th>\n",
       "      <th>PoolArea</th>\n",
       "      <th>PoolQC</th>\n",
       "      <th>Fence</th>\n",
       "      <th>MiscFeature</th>\n",
       "      <th>MiscVal</th>\n",
       "      <th>MoSold</th>\n",
       "      <th>YrSold</th>\n",
       "      <th>SaleType</th>\n",
       "      <th>SaleCondition</th>\n",
       "      <th>SalePrice</th>\n",
       "    </tr>\n",
       "  </thead>\n",
       "  <tbody>\n",
       "    <tr>\n",
       "      <th>0</th>\n",
       "      <td>60</td>\n",
       "      <td>0</td>\n",
       "      <td>65.0</td>\n",
       "      <td>8450</td>\n",
       "      <td>0</td>\n",
       "      <td>0</td>\n",
       "      <td>0</td>\n",
       "      <td>0</td>\n",
       "      <td>0</td>\n",
       "      <td>0</td>\n",
       "      <td>...</td>\n",
       "      <td>0</td>\n",
       "      <td>0</td>\n",
       "      <td>0</td>\n",
       "      <td>0</td>\n",
       "      <td>0</td>\n",
       "      <td>2</td>\n",
       "      <td>2008</td>\n",
       "      <td>0</td>\n",
       "      <td>0</td>\n",
       "      <td>208500</td>\n",
       "    </tr>\n",
       "    <tr>\n",
       "      <th>1</th>\n",
       "      <td>20</td>\n",
       "      <td>0</td>\n",
       "      <td>80.0</td>\n",
       "      <td>9600</td>\n",
       "      <td>0</td>\n",
       "      <td>0</td>\n",
       "      <td>0</td>\n",
       "      <td>0</td>\n",
       "      <td>1</td>\n",
       "      <td>0</td>\n",
       "      <td>...</td>\n",
       "      <td>0</td>\n",
       "      <td>0</td>\n",
       "      <td>0</td>\n",
       "      <td>0</td>\n",
       "      <td>0</td>\n",
       "      <td>5</td>\n",
       "      <td>2007</td>\n",
       "      <td>0</td>\n",
       "      <td>0</td>\n",
       "      <td>181500</td>\n",
       "    </tr>\n",
       "    <tr>\n",
       "      <th>2</th>\n",
       "      <td>60</td>\n",
       "      <td>0</td>\n",
       "      <td>68.0</td>\n",
       "      <td>11250</td>\n",
       "      <td>0</td>\n",
       "      <td>0</td>\n",
       "      <td>1</td>\n",
       "      <td>0</td>\n",
       "      <td>0</td>\n",
       "      <td>0</td>\n",
       "      <td>...</td>\n",
       "      <td>0</td>\n",
       "      <td>0</td>\n",
       "      <td>0</td>\n",
       "      <td>0</td>\n",
       "      <td>0</td>\n",
       "      <td>9</td>\n",
       "      <td>2008</td>\n",
       "      <td>0</td>\n",
       "      <td>0</td>\n",
       "      <td>223500</td>\n",
       "    </tr>\n",
       "    <tr>\n",
       "      <th>3</th>\n",
       "      <td>70</td>\n",
       "      <td>0</td>\n",
       "      <td>60.0</td>\n",
       "      <td>9550</td>\n",
       "      <td>0</td>\n",
       "      <td>0</td>\n",
       "      <td>1</td>\n",
       "      <td>0</td>\n",
       "      <td>2</td>\n",
       "      <td>0</td>\n",
       "      <td>...</td>\n",
       "      <td>0</td>\n",
       "      <td>0</td>\n",
       "      <td>0</td>\n",
       "      <td>0</td>\n",
       "      <td>0</td>\n",
       "      <td>2</td>\n",
       "      <td>2006</td>\n",
       "      <td>0</td>\n",
       "      <td>1</td>\n",
       "      <td>140000</td>\n",
       "    </tr>\n",
       "    <tr>\n",
       "      <th>4</th>\n",
       "      <td>60</td>\n",
       "      <td>0</td>\n",
       "      <td>84.0</td>\n",
       "      <td>14260</td>\n",
       "      <td>0</td>\n",
       "      <td>0</td>\n",
       "      <td>1</td>\n",
       "      <td>0</td>\n",
       "      <td>1</td>\n",
       "      <td>0</td>\n",
       "      <td>...</td>\n",
       "      <td>0</td>\n",
       "      <td>0</td>\n",
       "      <td>0</td>\n",
       "      <td>0</td>\n",
       "      <td>0</td>\n",
       "      <td>12</td>\n",
       "      <td>2008</td>\n",
       "      <td>0</td>\n",
       "      <td>0</td>\n",
       "      <td>250000</td>\n",
       "    </tr>\n",
       "  </tbody>\n",
       "</table>\n",
       "<p>5 rows × 79 columns</p>\n",
       "</div>"
      ],
      "text/plain": [
       "   MSSubClass  MSZoning  LotFrontage  LotArea  Street  Alley  LotShape  \\\n",
       "0          60         0         65.0     8450       0      0         0   \n",
       "1          20         0         80.0     9600       0      0         0   \n",
       "2          60         0         68.0    11250       0      0         1   \n",
       "3          70         0         60.0     9550       0      0         1   \n",
       "4          60         0         84.0    14260       0      0         1   \n",
       "\n",
       "   LandContour  LotConfig  LandSlope  ...  PoolArea  PoolQC  Fence  \\\n",
       "0            0          0          0  ...         0       0      0   \n",
       "1            0          1          0  ...         0       0      0   \n",
       "2            0          0          0  ...         0       0      0   \n",
       "3            0          2          0  ...         0       0      0   \n",
       "4            0          1          0  ...         0       0      0   \n",
       "\n",
       "   MiscFeature  MiscVal  MoSold  YrSold  SaleType  SaleCondition  SalePrice  \n",
       "0            0        0       2    2008         0              0     208500  \n",
       "1            0        0       5    2007         0              0     181500  \n",
       "2            0        0       9    2008         0              0     223500  \n",
       "3            0        0       2    2006         0              1     140000  \n",
       "4            0        0      12    2008         0              0     250000  \n",
       "\n",
       "[5 rows x 79 columns]"
      ]
     },
     "execution_count": 2,
     "metadata": {},
     "output_type": "execute_result"
    }
   ],
   "source": [
    "dataset = pd.read_csv('..\\datos_procesados\\datos_procesados.csv')\n",
    "dataset.drop(['Unnamed: 0'], axis=1, inplace=True)\n",
    "dataset.head()"
   ]
  },
  {
   "attachments": {},
   "cell_type": "markdown",
   "metadata": {},
   "source": [
    "## 2. Definiendo los features y la variable a predecir"
   ]
  },
  {
   "cell_type": "code",
   "execution_count": 3,
   "metadata": {},
   "outputs": [],
   "source": [
    "X = dataset.drop(['SalePrice'], axis=1)\n",
    "y = dataset[['SalePrice']]"
   ]
  },
  {
   "attachments": {},
   "cell_type": "markdown",
   "metadata": {},
   "source": [
    "## 3. Se realiza el escalamiento de los datos"
   ]
  },
  {
   "cell_type": "code",
   "execution_count": 4,
   "metadata": {},
   "outputs": [
    {
     "name": "stdout",
     "output_type": "stream",
     "text": [
      "Forma de la variable X_escalado: (1121, 78)\n"
     ]
    }
   ],
   "source": [
    "escalador_robuto = RobustScaler()\n",
    "X_escalado = escalador_robuto.fit_transform(X=X)\n",
    "print('Forma de la variable X_escalado: {}'.format(X_escalado.shape))"
   ]
  },
  {
   "attachments": {},
   "cell_type": "markdown",
   "metadata": {},
   "source": [
    "## 4. RANSAC"
   ]
  },
  {
   "cell_type": "code",
   "execution_count": 12,
   "metadata": {},
   "outputs": [
    {
     "name": "stdout",
     "output_type": "stream",
     "text": [
      "max R^2 test: 0.84\tNumero componentes: 76\n"
     ]
    }
   ],
   "source": [
    "r2_ransac = []\n",
    "\n",
    "for num_comp in range(1, (X_escalado.shape[1]+1)):\n",
    "    pca = PCA(n_components=num_comp)\n",
    "    X_pca = pca.fit_transform(X_escalado)\n",
    "\n",
    "    X_train, X_test, y_train, y_test = train_test_split(X_pca, y, test_size=0.3, random_state=42)\n",
    "\n",
    "    #Creando el regresor y entrenandolo\n",
    "    ransac = RANSACRegressor(max_trials=100)\n",
    "    ransac.fit(X=X_train, y=y_train)\n",
    "\n",
    "    #Verificando el error en el entrenamiento\n",
    "    y_pred_ransac = ransac.predict(X_test)\n",
    "    r2_ransac.append(r2_score(y_true=y_test, y_pred=y_pred_ransac))\n",
    "\n",
    "max_r2_ransac = max(r2_ransac)\n",
    "max_r2_comp_ransac = r2_ransac.index(max_r2_ransac)\n",
    "print('max R^2 test: {:.2f}\\tNumero componentes: {}'.format(max_r2_ransac, max_r2_comp_ransac))   "
   ]
  },
  {
   "attachments": {},
   "cell_type": "markdown",
   "metadata": {},
   "source": [
    "#### 4.1 Cómo el $R^2 score$ más alto se obtuvo como 76 componentes, se crea el modelo a partir de ese número de insights"
   ]
  },
  {
   "cell_type": "code",
   "execution_count": 25,
   "metadata": {},
   "outputs": [
    {
     "name": "stdout",
     "output_type": "stream",
     "text": [
      "R^2 test: 0.81\n",
      "R^2 train: 0.73\n",
      "\n",
      "RMSR test: +- 38478 USD\n",
      "RMSR train: +- 41804 USD\n"
     ]
    }
   ],
   "source": [
    "#Se reduce la dimensionalidad a 76\n",
    "num_componentes = 76\n",
    "pca = PCA(n_components=num_componentes)\n",
    "X_pca = pca.fit_transform(X_escalado)\n",
    "\n",
    "#Se divide los datos en train y test\n",
    "X_train, X_test, y_train, y_test = train_test_split(X_pca, y, test_size=0.3, random_state=42)\n",
    "\n",
    "#Creando el regresor y entrenandolo\n",
    "ransac = RANSACRegressor(max_trials=100)\n",
    "ransac.fit(X=X_train, y=y_train)\n",
    "\n",
    "print(\"R^2 test: {:.2f}\".format(r2_score(y_true=y_test, y_pred=ransac.predict(X_test))))\n",
    "print(\"R^2 train: {:.2f}\".format(r2_score(y_true=y_train, y_pred=ransac.predict(X_train))))\n",
    "\n",
    "print(\"\\nRMSR test: +- {:.0f} USD\".format(sqrt(mean_squared_error(y_true=y_test, y_pred=ransac.predict(X_test)))))\n",
    "print(\"RMSR train: +- {:.0f} USD\".format(sqrt(mean_squared_error(y_true=y_train, y_pred=ransac.predict(X_train)))))"
   ]
  },
  {
   "cell_type": "code",
   "execution_count": 18,
   "metadata": {},
   "outputs": [],
   "source": [
    "df_comp_price = y_test.copy()\n",
    "df_comp_price['y_pred_ransac'] = np.round(ransac.predict(X_test), decimals=0)"
   ]
  },
  {
   "attachments": {},
   "cell_type": "markdown",
   "metadata": {},
   "source": [
    "## 5. HUBER"
   ]
  },
  {
   "attachments": {},
   "cell_type": "markdown",
   "metadata": {},
   "source": [
    "#### 5.1 Número de componentes más optimo para obtener un mejor $R^2 score$ con HUBER"
   ]
  },
  {
   "cell_type": "code",
   "execution_count": 19,
   "metadata": {},
   "outputs": [
    {
     "name": "stdout",
     "output_type": "stream",
     "text": [
      "max R^2 test: 0.86\tNumero componentes: 55\n"
     ]
    }
   ],
   "source": [
    "r2_huber = []\n",
    "\n",
    "for num_comp in range(1, (X_escalado.shape[1]+1)):\n",
    "    pca = PCA(n_components=num_comp)\n",
    "    X_pca = pca.fit_transform(X_escalado)\n",
    "\n",
    "    X_train, X_test, y_train, y_test = train_test_split(X_pca, y, test_size=0.3, random_state=42)\n",
    "\n",
    "    #Creando el regresor y entrenandolo\n",
    "    huber = HuberRegressor(epsilon=1.35)\n",
    "    huber.fit(X=X_train, y=y_train)\n",
    "\n",
    "    #Verificando el puntaje r^2 en la predicción \n",
    "    r2_huber.append(r2_score(y_true=y_test, y_pred=huber.predict(X_test)))\n",
    "\n",
    "max_r2_huber = max(r2_huber)\n",
    "max_r2_comp_huber = r2_huber.index(max_r2_huber)\n",
    "print('max R^2 test: {:.2}\\tNumero componentes: {}'.format(max_r2_huber, max_r2_comp_huber))  "
   ]
  },
  {
   "attachments": {},
   "cell_type": "markdown",
   "metadata": {},
   "source": [
    "#### 5.2 Cómo el $R^2 score$ más alto se obtuvo como 55 componentes, se crea el modelo a partir de ese número de insights"
   ]
  },
  {
   "cell_type": "code",
   "execution_count": 37,
   "metadata": {},
   "outputs": [
    {
     "name": "stdout",
     "output_type": "stream",
     "text": [
      "R^2 test: 0.84\n",
      "R^2 train: 0.75\n",
      "\n",
      "RMSR test: +- 36119 USD\n",
      "RMSR train: +- 40056 USD\n"
     ]
    }
   ],
   "source": [
    "#Se reduce la dimensionalidad a 55\n",
    "num_componentes = 55\n",
    "pca = PCA(n_components=num_componentes)\n",
    "X_pca = pca.fit_transform(X_escalado)\n",
    "\n",
    "#Se divide los datos en train y test\n",
    "X_train, X_test, y_train, y_test = train_test_split(X_pca, y, test_size=0.3, random_state=42)\n",
    "\n",
    "#Creando el regresor y entrenandolo\n",
    "huber = HuberRegressor(epsilon=1.35)\n",
    "huber.fit(X=X_train, y=y_train)\n",
    "\n",
    "print(\"R^2 test: {:.2f}\".format(r2_score(y_true=y_test, y_pred=huber.predict(X_test))))\n",
    "print(\"R^2 train: {:.2f}\".format(r2_score(y_true=y_train, y_pred=huber.predict(X_train))))\n",
    "\n",
    "print(\"\\nRMSR test: +- {:.0f} USD\".format(sqrt(mean_squared_error(y_true=y_test, y_pred=huber.predict(X_test)))))\n",
    "print(\"RMSR train: +- {:.0f} USD\".format(sqrt(mean_squared_error(y_true=y_train, y_pred=huber.predict(X_train)))))"
   ]
  },
  {
   "attachments": {},
   "cell_type": "markdown",
   "metadata": {},
   "source": [
    "## 6. Comparación de los algoritmos de RANSAC y HUBER en la predicción del precio de las viviendas"
   ]
  },
  {
   "cell_type": "code",
   "execution_count": 38,
   "metadata": {},
   "outputs": [
    {
     "data": {
      "text/html": [
       "<div>\n",
       "<style scoped>\n",
       "    .dataframe tbody tr th:only-of-type {\n",
       "        vertical-align: middle;\n",
       "    }\n",
       "\n",
       "    .dataframe tbody tr th {\n",
       "        vertical-align: top;\n",
       "    }\n",
       "\n",
       "    .dataframe thead th {\n",
       "        text-align: right;\n",
       "    }\n",
       "</style>\n",
       "<table border=\"1\" class=\"dataframe\">\n",
       "  <thead>\n",
       "    <tr style=\"text-align: right;\">\n",
       "      <th></th>\n",
       "      <th>SalePrice</th>\n",
       "      <th>y_pred_ransac</th>\n",
       "      <th>y_pred_huber</th>\n",
       "    </tr>\n",
       "  </thead>\n",
       "  <tbody>\n",
       "    <tr>\n",
       "      <th>996</th>\n",
       "      <td>140000</td>\n",
       "      <td>190436.0</td>\n",
       "      <td>158189.0</td>\n",
       "    </tr>\n",
       "    <tr>\n",
       "      <th>101</th>\n",
       "      <td>150750</td>\n",
       "      <td>132554.0</td>\n",
       "      <td>145383.0</td>\n",
       "    </tr>\n",
       "    <tr>\n",
       "      <th>231</th>\n",
       "      <td>157000</td>\n",
       "      <td>189650.0</td>\n",
       "      <td>151798.0</td>\n",
       "    </tr>\n",
       "    <tr>\n",
       "      <th>1004</th>\n",
       "      <td>138000</td>\n",
       "      <td>155299.0</td>\n",
       "      <td>143814.0</td>\n",
       "    </tr>\n",
       "    <tr>\n",
       "      <th>605</th>\n",
       "      <td>144000</td>\n",
       "      <td>129047.0</td>\n",
       "      <td>166595.0</td>\n",
       "    </tr>\n",
       "    <tr>\n",
       "      <th>...</th>\n",
       "      <td>...</td>\n",
       "      <td>...</td>\n",
       "      <td>...</td>\n",
       "    </tr>\n",
       "    <tr>\n",
       "      <th>787</th>\n",
       "      <td>87000</td>\n",
       "      <td>154033.0</td>\n",
       "      <td>91697.0</td>\n",
       "    </tr>\n",
       "    <tr>\n",
       "      <th>939</th>\n",
       "      <td>112000</td>\n",
       "      <td>119314.0</td>\n",
       "      <td>128948.0</td>\n",
       "    </tr>\n",
       "    <tr>\n",
       "      <th>428</th>\n",
       "      <td>255500</td>\n",
       "      <td>251055.0</td>\n",
       "      <td>274308.0</td>\n",
       "    </tr>\n",
       "    <tr>\n",
       "      <th>693</th>\n",
       "      <td>122900</td>\n",
       "      <td>46496.0</td>\n",
       "      <td>144307.0</td>\n",
       "    </tr>\n",
       "    <tr>\n",
       "      <th>596</th>\n",
       "      <td>216837</td>\n",
       "      <td>206042.0</td>\n",
       "      <td>237786.0</td>\n",
       "    </tr>\n",
       "  </tbody>\n",
       "</table>\n",
       "<p>337 rows × 3 columns</p>\n",
       "</div>"
      ],
      "text/plain": [
       "      SalePrice  y_pred_ransac  y_pred_huber\n",
       "996      140000       190436.0      158189.0\n",
       "101      150750       132554.0      145383.0\n",
       "231      157000       189650.0      151798.0\n",
       "1004     138000       155299.0      143814.0\n",
       "605      144000       129047.0      166595.0\n",
       "...         ...            ...           ...\n",
       "787       87000       154033.0       91697.0\n",
       "939      112000       119314.0      128948.0\n",
       "428      255500       251055.0      274308.0\n",
       "693      122900        46496.0      144307.0\n",
       "596      216837       206042.0      237786.0\n",
       "\n",
       "[337 rows x 3 columns]"
      ]
     },
     "execution_count": 38,
     "metadata": {},
     "output_type": "execute_result"
    }
   ],
   "source": [
    "df_comp_price['y_pred_huber'] = np.round(huber.predict(X_test), decimals=0)\n",
    "df_comp_price"
   ]
  },
  {
   "cell_type": "code",
   "execution_count": 40,
   "metadata": {},
   "outputs": [
    {
     "data": {
      "image/png": "[encoded data removed]",
      "text/plain": [
       "<Figure size 1000x800 with 1 Axes>"
      ]
     },
     "metadata": {},
     "output_type": "display_data"
    }
   ],
   "source": [
    "df_comp_price.sort_values('SalePrice', inplace=True)\n",
    "x = range(len(df_comp_price['SalePrice'].to_list()))\n",
    "size_dot = 5\n",
    "plt.figure(figsize=(10,8))\n",
    "plt.scatter(x, df_comp_price['SalePrice'], label='Precio real', s=size_dot)\n",
    "plt.scatter(x, df_comp_price['y_pred_ransac'], label='Predicción algoritmo Ransac', s=size_dot)\n",
    "plt.scatter(x, df_comp_price['y_pred_huber'], label='Predicción algoritmo Huber', s=size_dot)\n",
    "plt.ylabel('Precio (USD)')\n",
    "plt.legend()\n",
    "plt.grid()\n",
    "plt.show()"
   ]
  }
 ],
 "metadata": {
  "kernelspec": {
   "display_name": "venv",
   "language": "python",
   "name": "python3"
  },
  "language_info": {
   "codemirror_mode": {
    "name": "ipython",
    "version": 3
   },
   "file_extension": ".py",
   "mimetype": "text/x-python",
   "name": "python",
   "nbconvert_exporter": "python",
   "pygments_lexer": "ipython3",
   "version": "3.9.13"
  },
  "orig_nbformat": 4,
  "vscode": {
   "interpreter": {
    "hash": "bf920516cd6df8d2011f075dc543f6b2416cc28511b69f4113d58111161bab8d"
   }
  }
 },
 "nbformat": 4,
 "nbformat_minor": 2
}
